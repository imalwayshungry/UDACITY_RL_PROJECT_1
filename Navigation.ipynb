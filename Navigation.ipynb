{
 "cells": [
  {
   "cell_type": "markdown",
   "metadata": {},
   "source": [
    "# Navigation\n",
    "\n",
    "---\n",
    "\n",
    "In this notebook, you will learn how to use the Unity ML-Agents environment for the first project of the [Deep Reinforcement Learning Nanodegree](https://www.udacity.com/course/deep-reinforcement-learning-nanodegree--nd893).\n",
    "\n",
    "### 1. Start the Environment\n",
    "\n",
    "We begin by importing some necessary packages.  If the code cell below returns an error, please revisit the project instructions to double-check that you have installed [Unity ML-Agents](https://github.com/Unity-Technologies/ml-agents/blob/master/docs/Installation.md) and [NumPy](http://www.numpy.org/)."
   ]
  },
  {
   "cell_type": "code",
   "execution_count": null,
   "metadata": {},
   "outputs": [],
   "source": [
    "from unityagents import UnityEnvironment\n",
    "import numpy as np\n",
    "import time"
   ]
  },
  {
   "cell_type": "markdown",
   "metadata": {},
   "source": [
    "Next, we will start the environment!  **_Before running the code cell below_**, change the `file_name` parameter to match the location of the Unity environment that you downloaded.\n",
    "\n",
    "- **Mac**: `\"path/to/Banana.app\"`\n",
    "- **Windows** (x86): `\"path/to/Banana_Windows_x86/Banana.exe\"`\n",
    "- **Windows** (x86_64): `\"path/to/Banana_Windows_x86_64/Banana.exe\"`\n",
    "- **Linux** (x86): `\"path/to/Banana_Linux/Banana.x86\"`\n",
    "- **Linux** (x86_64): `\"path/to/Banana_Linux/Banana.x86_64\"`\n",
    "- **Linux** (x86, headless): `\"path/to/Banana_Linux_NoVis/Banana.x86\"`\n",
    "- **Linux** (x86_64, headless): `\"path/to/Banana_Linux_NoVis/Banana.x86_64\"`\n",
    "\n",
    "For instance, if you are using a Mac, then you downloaded `Banana.app`.  If this file is in the same folder as the notebook, then the line below should appear as follows:\n",
    "```\n",
    "env = UnityEnvironment(file_name=\"Banana.app\")\n",
    "```"
   ]
  },
  {
   "cell_type": "code",
   "execution_count": null,
   "metadata": {},
   "outputs": [],
   "source": [
    "env = UnityEnvironment(file_name=\"...\")\n",
    "env = UnityEnvironment(file_name=\"Banana.app\")"
   ]
  },
  {
   "cell_type": "markdown",
   "metadata": {},
   "source": [
    "Environments contain **_brains_** which are responsible for deciding the actions of their associated agents. Here we check for the first brain available, and set it as the default brain we will be controlling from Python."
   ]
  },
  {
   "cell_type": "code",
   "execution_count": null,
   "metadata": {},
   "outputs": [],
   "source": [
    "# get the default brain\n",
    "brain_name = env.brain_names[0]\n",
    "brain = env.brains[brain_name]"
   ]
  },
  {
   "cell_type": "markdown",
   "metadata": {},
   "source": [
    "### 2. Examine the State and Action Spaces\n",
    "\n",
    "The simulation contains a single agent that navigates a large environment.  At each time step, it has four actions at its disposal:\n",
    "- `0` - walk forward \n",
    "- `1` - walk backward\n",
    "- `2` - turn left\n",
    "- `3` - turn right\n",
    "\n",
    "The state space has `37` dimensions and contains the agent's velocity, along with ray-based perception of objects around agent's forward direction.  A reward of `+1` is provided for collecting a yellow banana, and a reward of `-1` is provided for collecting a blue banana. \n",
    "\n",
    "Run the code cell below to print some information about the environment."
   ]
  },
  {
   "cell_type": "code",
   "execution_count": null,
   "metadata": {},
   "outputs": [],
   "source": [
    "# reset the environment\n",
    "env_info = env.reset(train_mode=True)[brain_name]\n",
    "\n",
    "# number of agents in the environment\n",
    "print('Number of agents:', len(env_info.agents))\n",
    "\n",
    "# number of actions\n",
    "action_size = brain.vector_action_space_size\n",
    "print('Number of actions:', action_size)\n",
    "\n",
    "# examine the state space \n",
    "state = env_info.vector_observations[0]\n",
    "print('States look like:', state)\n",
    "state_size = len(state)\n",
    "print('States have length:', state_size)"
   ]
  },
  {
   "cell_type": "markdown",
   "metadata": {},
   "source": [
    "### 3. Take Random Actions in the Environment\n",
    "\n",
    "In the next code cell, you will learn how to use the Python API to control the agent and receive feedback from the environment.\n",
    "\n",
    "Once this cell is executed, you will watch the agent's performance, if it selects an action (uniformly) at random with each time step.  A window should pop up that allows you to observe the agent, as it moves through the environment.  \n",
    "\n",
    "Of course, as part of the project, you'll have to change the code so that the agent is able to use its experience to gradually choose better actions when interacting with the environment!"
   ]
  },
  {
   "cell_type": "code",
   "execution_count": null,
   "metadata": {},
   "outputs": [],
   "source": [
    "#env_info = env.reset(train_mode=False)[brain_name] # reset the environment\n",
    "#state = env_info.vector_observations[0]            # get the current state\n",
    "score = 0    # initialize the score\n",
    "keep_going_random = False\n",
    "while keep_going_random:\n",
    "    action = np.random.randint(action_size)        # select an action\n",
    "    env_info = env.step(action)[brain_name]        # send the action to the environment\n",
    "    next_state = env_info.vector_observations[0]   # get the next state\n",
    "    reward = env_info.rewards[0]                   # get the reward\n",
    "    done = env_info.local_done[0]                  # see if episode has finished\n",
    "    score += reward                                # update the score\n",
    "    state = next_state                             # roll over the state to next time step\n",
    "    if done:                                       # exit loop if episode finished\n",
    "        break\n",
    "    \n",
    "print(\"Score: {}\".format(score))"
   ]
  },
  {
   "cell_type": "markdown",
   "metadata": {},
   "source": [
    "When finished, you can close the environment."
   ]
  },
  {
   "cell_type": "code",
   "execution_count": null,
   "metadata": {},
   "outputs": [],
   "source": [
    "env.close()"
   ]
  },
  {
   "cell_type": "markdown",
   "metadata": {},
   "source": [
    "### 4. It's Your Turn!\n",
    "\n",
    "Now it's your turn to train your own agent to solve the environment!  When training the environment, set `train_mode=True`, so that the line for resetting the environment looks like the following:\n",
    "```python\n",
    "env_info = env.reset(train_mode=True)[brain_name]\n",
    "```\n"
   ]
  },
  {
   "cell_type": "code",
   "execution_count": 1,
   "metadata": {},
   "outputs": [],
   "source": [
    "from unityagents import UnityEnvironment\n",
    "import numpy as np\n",
    "import time"
   ]
  },
  {
   "cell_type": "code",
   "execution_count": 2,
   "metadata": {},
   "outputs": [
    {
     "name": "stderr",
     "output_type": "stream",
     "text": [
      "INFO:unityagents:\n",
      "'Academy' started successfully!\n",
      "Unity Academy name: Academy\n",
      "        Number of Brains: 1\n",
      "        Number of External Brains : 1\n",
      "        Lesson number : 0\n",
      "        Reset Parameters :\n",
      "\t\t\n",
      "Unity brain name: BananaBrain\n",
      "        Number of Visual Observations (per agent): 0\n",
      "        Vector Observation space type: continuous\n",
      "        Vector Observation space size (per agent): 37\n",
      "        Number of stacked Vector Observation: 1\n",
      "        Vector Action space type: discrete\n",
      "        Vector Action space size (per agent): 4\n",
      "        Vector Action descriptions: , , , \n"
     ]
    },
    {
     "name": "stdout",
     "output_type": "stream",
     "text": [
      "Number of agents: 1\n",
      "Number of actions: 4\n",
      "States look like: [1.         0.         0.         0.         0.84408134 0.\n",
      " 0.         1.         0.         0.0748472  0.         1.\n",
      " 0.         0.         0.25755    1.         0.         0.\n",
      " 0.         0.74177343 0.         1.         0.         0.\n",
      " 0.25854847 0.         0.         1.         0.         0.09355672\n",
      " 0.         1.         0.         0.         0.31969345 0.\n",
      " 0.        ]\n",
      "States have length: 37\n",
      "GAME NUMBER: 1\n",
      "Score: 10.0\n",
      "GAME NUMBER: 2\n",
      "Score: 19.0\n",
      "GAME NUMBER: 3\n",
      "Score: 11.0\n",
      "GAME NUMBER: 4\n",
      "Score: 12.0\n",
      "GAME NUMBER: 5\n",
      "Score: 15.0\n",
      "GAME NUMBER: 6\n",
      "Score: 2.0\n",
      "GAME NUMBER: 7\n",
      "Score: 18.0\n",
      "GAME NUMBER: 8\n",
      "Score: 16.0\n",
      "GAME NUMBER: 9\n",
      "Score: 17.0\n",
      "GAME NUMBER: 10\n",
      "Score: 16.0\n",
      "GAME NUMBER: 11\n",
      "Score: 10.0\n",
      "GAME NUMBER: 12\n",
      "Score: 10.0\n",
      "GAME NUMBER: 13\n",
      "Score: 18.0\n",
      "GAME NUMBER: 14\n",
      "Score: 14.0\n",
      "GAME NUMBER: 15\n",
      "Score: 19.0\n",
      "GAME NUMBER: 16\n",
      "Score: 15.0\n",
      "GAME NUMBER: 17\n",
      "Score: 11.0\n",
      "GAME NUMBER: 18\n",
      "Score: 20.0\n",
      "GAME NUMBER: 19\n",
      "Score: 0.0\n",
      "GAME NUMBER: 20\n",
      "Score: 17.0\n",
      "GAME NUMBER: 21\n",
      "Score: 18.0\n",
      "GAME NUMBER: 22\n",
      "Score: 10.0\n",
      "GAME NUMBER: 23\n",
      "Score: 16.0\n",
      "GAME NUMBER: 24\n",
      "Score: 15.0\n",
      "GAME NUMBER: 25\n",
      "Score: 21.0\n",
      "GAME NUMBER: 26\n",
      "Score: 11.0\n",
      "GAME NUMBER: 27\n",
      "Score: 16.0\n",
      "GAME NUMBER: 28\n",
      "Score: 14.0\n",
      "GAME NUMBER: 29\n",
      "Score: 17.0\n",
      "Saving model\n",
      "Model Saved: MODEL_CHECKPOINT.64532.model\n"
     ]
    },
    {
     "data": {
      "image/png": "[encoded data removed]",
      "text/plain": [
       "<Figure size 432x288 with 1 Axes>"
      ]
     },
     "metadata": {
      "needs_background": "light"
     },
     "output_type": "display_data"
    }
   ],
   "source": [
    "#***IMPORTANT -- there appears to be a bug with UnityEnvironment. This cell must be run indpendantly. \n",
    "#YOU CAN only create one unity environment within one process or else you get a \"broken pipe\" error.\n",
    "#**Therefore the code above cannot be run first without generating an error. I am running MACOS with\n",
    "#Catalina so it is possible the error is just with my specific environment.\n",
    "\n",
    "#Model already trained so I am just illustrating now that the model is trainable and it works. It starts out\n",
    "#getting higher scores becuase it is already trained. \n",
    "\n",
    "env2 = UnityEnvironment(file_name=\"Banana.app\")\n",
    "\n",
    "\n",
    "# Environments contain **_brains_** which are responsible for deciding the actions of their associated agents. Here we check for the first brain available, and set it as the default brain we will be controlling from Python.\n",
    "\n",
    "# In[3]:\n",
    "\n",
    "\n",
    "# get the default brain\n",
    "brain_name = env2.brain_names[0]\n",
    "brain = env2.brains[brain_name]\n",
    "\n",
    "\n",
    "# ### 2. Examine the State and Action Spaces\n",
    "# \n",
    "# The simulation contains a single agent that navigates a large environment.  At each time step, it has four actions at its disposal:\n",
    "# - `0` - walk forward \n",
    "# - `1` - walk backward\n",
    "# - `2` - turn left\n",
    "# - `3` - turn right\n",
    "# \n",
    "# The state space has `37` dimensions and contains the agent's velocity, along with ray-based perception of objects around agent's forward direction.  A reward of `+1` is provided for collecting a yellow banana, and a reward of `-1` is provided for collecting a blue banana. \n",
    "# \n",
    "# Run the code cell below to print some information about the environment.\n",
    "\n",
    "# In[4]:\n",
    "\n",
    "\n",
    "# reset the environment\n",
    "env_info = env2.reset(train_mode=True)[brain_name]\n",
    "\n",
    "# number of agents in the environment\n",
    "print('Number of agents:', len(env_info.agents))\n",
    "\n",
    "# number of actions\n",
    "action_size = brain.vector_action_space_size\n",
    "print('Number of actions:', action_size)\n",
    "\n",
    "# examine the state space \n",
    "state = env_info.vector_observations[0]\n",
    "print('States look like:', state)\n",
    "state_size = len(state)\n",
    "print('States have length:', state_size)\n",
    "\n",
    "from dqn_agent import ReplayBuffer\n",
    "from dqn_agent import Agent\n",
    "\n",
    "\n",
    "LOAD_PREV_MODEL = True\n",
    "SET_EPS = False\n",
    "MODEL_FILE_NAME = \"MODEL_CHECKPOINT.34994.model\"\n",
    "\n",
    "max_games = 30\n",
    "max_steps = 500\n",
    "\n",
    "my_agent = Agent(37, action_size, 0)\n",
    "\n",
    "if LOAD_PREV_MODEL:\n",
    "    my_agent.load_model(MODEL_FILE_NAME, 37, action_size, 0)\n",
    "\n",
    "#my_buffer = ReplayBuffer(4, 1000, 10, 0)\n",
    "epsilon = 0.0\n",
    "min_eps = 0.1\n",
    "all_scores = []\n",
    "\n",
    "#env_info = env.reset(train_mode=False)[brain_name] # reset the environment\n",
    "#state = env_info.vector_observations[0]            # get the current state\n",
    "#score = 0           # initialize the score\n",
    "\n",
    "TRAIN_MODEL = True\n",
    "\n",
    "for idx_games in range(1, max_games):\n",
    "    env_info = env2.reset(train_mode=False)[brain_name]  # reset the environment\n",
    "    state = env_info.vector_observations[0]  # get the current state\n",
    "    score = 0  # initialize the score\n",
    "    print(\"GAME NUMBER: \" + str(idx_games))\n",
    "    if idx_games % 100 == 0:\n",
    "        print(\"WRITING MODEL.\")\n",
    "        my_agent.save_model()\n",
    "    if SET_EPS:\n",
    "        if idx_games % 100 == 0 and epsilon >= min_eps:\n",
    "            print(\"DECAYING EPS: \" + str(epsilon))\n",
    "            epsilon = epsilon - 0.1\n",
    "    for steps_idx in range(0, max_steps):\n",
    "        #action = np.random.randint(action_size)        # select an action\n",
    "        action = my_agent.act(state, epsilon)  #***simply returns actions, from local policy network.\n",
    "        #print(\"ACTION: \" + str(action))\n",
    "        env_info = env2.step(action)[brain_name]        # send the action to the environment\n",
    "        next_state = env_info.vector_observations[0]   # get the next state\n",
    "        reward = env_info.rewards[0]                   # get the reward\n",
    "        done = env_info.local_done[0]                  # see if episode has finished\n",
    "        score += reward                                # update the score\n",
    "        if reward == -1:\n",
    "            reward = -50\n",
    "        if reward == 1:\n",
    "            reward = 50\n",
    "        if TRAIN_MODEL: #**Give option to not train model! \n",
    "            my_agent.step(state, action, reward, next_state, done)\n",
    "        state = next_state\n",
    "        if done:   # exit loop if episode finished\n",
    "            all_scores.append(score) #**We need to plot our scores! \n",
    "            break\n",
    "    print(\"Score: {}\".format(score))\n",
    "\n",
    "print(\"Saving model\")\n",
    "my_agent.save_model()\n",
    "from matplotlib import pyplot as plt\n",
    "plt.plot(all_scores)\n",
    "plt.show()\n",
    "# When finished, you can close the environment.\n",
    "\n",
    "# In[ ]:\n",
    "\n",
    "\n",
    "env2.close()"
   ]
  },
  {
   "cell_type": "code",
   "execution_count": null,
   "metadata": {},
   "outputs": [],
   "source": []
  }
 ],
 "metadata": {
  "kernelspec": {
   "display_name": "Python 3",
   "language": "python",
   "name": "python3"
  },
  "language_info": {
   "codemirror_mode": {
    "name": "ipython",
    "version": 3
   },
   "file_extension": ".py",
   "mimetype": "text/x-python",
   "name": "python",
   "nbconvert_exporter": "python",
   "pygments_lexer": "ipython3",
   "version": "3.6.10"
  }
 },
 "nbformat": 4,
 "nbformat_minor": 2
}
